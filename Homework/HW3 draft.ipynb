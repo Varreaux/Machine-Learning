{
 "cells": [
  {
   "cell_type": "code",
   "execution_count": 15,
   "id": "a1a635e6-69ce-4565-ba5d-7320d0eb2593",
   "metadata": {},
   "outputs": [],
   "source": [
    "import pandas as pd\n",
    "import numpy as np\n",
    "\n",
    "s = '/Users/morganwaddington/Documents/Tandon/Classes/Machine-Learning/kddcup.data_10_percent_corrected'\n",
    "df = pd.read_csv(s, header=None, encoding='utf-8')\n",
    "\n",
    "df = df.sample(frac=0.2, random_state=1) "
   ]
  },
  {
   "cell_type": "code",
   "execution_count": 16,
   "id": "07f87c7c-87f6-4a11-abda-8bdb9cdcc18b",
   "metadata": {},
   "outputs": [],
   "source": [
    "from sklearn.preprocessing import LabelEncoder\n",
    "\n",
    "label_encoder = LabelEncoder()\n",
    "\n",
    "for col in [1, 2, 3]:\n",
    "    df.iloc[:, col] = label_encoder.fit_transform(df.iloc[:, col])\n"
   ]
  },
  {
   "cell_type": "code",
   "execution_count": 17,
   "id": "b6446331-697e-4a2a-b736-d6eff3a7755d",
   "metadata": {},
   "outputs": [
    {
     "name": "stdout",
     "output_type": "stream",
     "text": [
      "smurf.\n"
     ]
    }
   ],
   "source": [
    "\n",
    "print(df.iloc[0, 41])\n",
    "\n",
    "y = df.iloc[:, 41].values \n",
    "\n",
    "y = np.where(np.isin(y, ['back.', 'land.', 'neptune.', 'pod.', 'smurf.', 'teardrop.']), 0, 1) \n",
    "\n",
    "X = df.iloc[:, 0:41].values #41 is correct\n"
   ]
  },
  {
   "cell_type": "code",
   "execution_count": 18,
   "id": "e0a0f781-5be1-4425-b12c-20940411067a",
   "metadata": {},
   "outputs": [],
   "source": [
    "\n",
    "\n",
    "from sklearn.model_selection import train_test_split\n",
    "X_train, X_test, y_train, y_test = train_test_split(X, y, test_size=0.2, random_state=1, stratify=y)\n",
    "\n"
   ]
  },
  {
   "cell_type": "code",
   "execution_count": 19,
   "id": "d02fe44c-3958-4b2c-b49a-3c9998696b48",
   "metadata": {},
   "outputs": [
    {
     "name": "stdout",
     "output_type": "stream",
     "text": [
      "Labels counts in y: [78346 20458]\n",
      "Labels counts in y_train: [62677 16366]\n",
      "Labels counts in y_test: [15669  4092]\n"
     ]
    }
   ],
   "source": [
    "\n",
    "\n",
    "print('Labels counts in y:', np.bincount(y))\n",
    "print('Labels counts in y_train:', np.bincount(y_train))\n",
    "print('Labels counts in y_test:', np.bincount(y_test))\n",
    "\n"
   ]
  },
  {
   "cell_type": "code",
   "execution_count": 20,
   "id": "11d538f7-b535-434b-8fd9-c71158e8a166",
   "metadata": {},
   "outputs": [],
   "source": [
    "\n",
    "from sklearn.preprocessing import StandardScaler\n",
    "sc = StandardScaler()\n",
    "sc.fit(X_train)\n",
    "X_train_std = sc.transform(X_train)\n",
    "X_test_std = sc.transform(X_test)\n"
   ]
  },
  {
   "cell_type": "code",
   "execution_count": 21,
   "id": "e2e7451f-9903-48d3-bbbd-f9d6524d68e8",
   "metadata": {},
   "outputs": [],
   "source": [
    "from matplotlib.colors import ListedColormap\n",
    "import matplotlib.pyplot as plt\n",
    "def plot_decision_regions(X, y, classifier, test_idx=None,\n",
    "                             resolution=0.02):\n",
    "       # setup marker generator and color map\n",
    "       markers = ('s', 'x', 'o', '^', 'v')\n",
    "       colors = ('red', 'blue', 'lightgreen', 'gray', 'cyan')\n",
    "       cmap = ListedColormap(colors[:len(np.unique(y))])\n",
    "       # plot the decision surface\n",
    "       x1_min, x1_max = X[:, 0].min() - 1, X[:, 0].max() + 1\n",
    "       x2_min, x2_max = X[:, 1].min() - 1, X[:, 1].max() + 1\n",
    "       xx1, xx2 = np.meshgrid(np.arange(x1_min, x1_max, resolution),\n",
    "                              np.arange(x2_min, x2_max, resolution))\n",
    "       Z = classifier.predict(np.array([xx1.ravel(), xx2.ravel()]).T)\n",
    "       Z = Z.reshape(xx1.shape)\n",
    "       plt.contourf(xx1, xx2, Z, alpha=0.3, cmap=cmap)\n",
    "       plt.xlim(xx1.min(), xx1.max())\n",
    "       plt.ylim(xx2.min(), xx2.max())\n",
    "       for idx, cl in enumerate(np.unique(y)):\n",
    "           plt.scatter(x=X[y == cl, 0], y=X[y == cl, 1],\n",
    "                       alpha=0.8, c=colors[idx],\n",
    "                       marker=markers[idx], label=cl,\n",
    "                       edgecolor='black')\n",
    "\n",
    "        # highlight test examples\n",
    "       if test_idx:\n",
    "           # plot all examples\n",
    "           X_test, y_test = X[test_idx, :], y[test_idx]\n",
    "           plt.scatter(X_test[:, 0], X_test[:, 1],\n",
    "                       c='', edgecolor='black', alpha=1.0,\n",
    "                       linewidth=1, marker='o',\n",
    "                       s=100, label='test set')"
   ]
  },
  {
   "cell_type": "code",
   "execution_count": 22,
   "id": "5c140cfe-1051-492f-b6d1-549257c4c327",
   "metadata": {},
   "outputs": [],
   "source": [
    "X_combined_std = np.vstack((X_train_std, X_test_std))\n",
    "y_combined = np.hstack((y_train, y_test))\n"
   ]
  },
  {
   "cell_type": "code",
   "execution_count": 23,
   "id": "f7196ab3-927f-41d6-b814-9210ed72315c",
   "metadata": {},
   "outputs": [
    {
     "data": {
      "text/html": [
       "<style>#sk-container-id-2 {\n",
       "  /* Definition of color scheme common for light and dark mode */\n",
       "  --sklearn-color-text: black;\n",
       "  --sklearn-color-line: gray;\n",
       "  /* Definition of color scheme for unfitted estimators */\n",
       "  --sklearn-color-unfitted-level-0: #fff5e6;\n",
       "  --sklearn-color-unfitted-level-1: #f6e4d2;\n",
       "  --sklearn-color-unfitted-level-2: #ffe0b3;\n",
       "  --sklearn-color-unfitted-level-3: chocolate;\n",
       "  /* Definition of color scheme for fitted estimators */\n",
       "  --sklearn-color-fitted-level-0: #f0f8ff;\n",
       "  --sklearn-color-fitted-level-1: #d4ebff;\n",
       "  --sklearn-color-fitted-level-2: #b3dbfd;\n",
       "  --sklearn-color-fitted-level-3: cornflowerblue;\n",
       "\n",
       "  /* Specific color for light theme */\n",
       "  --sklearn-color-text-on-default-background: var(--sg-text-color, var(--theme-code-foreground, var(--jp-content-font-color1, black)));\n",
       "  --sklearn-color-background: var(--sg-background-color, var(--theme-background, var(--jp-layout-color0, white)));\n",
       "  --sklearn-color-border-box: var(--sg-text-color, var(--theme-code-foreground, var(--jp-content-font-color1, black)));\n",
       "  --sklearn-color-icon: #696969;\n",
       "\n",
       "  @media (prefers-color-scheme: dark) {\n",
       "    /* Redefinition of color scheme for dark theme */\n",
       "    --sklearn-color-text-on-default-background: var(--sg-text-color, var(--theme-code-foreground, var(--jp-content-font-color1, white)));\n",
       "    --sklearn-color-background: var(--sg-background-color, var(--theme-background, var(--jp-layout-color0, #111)));\n",
       "    --sklearn-color-border-box: var(--sg-text-color, var(--theme-code-foreground, var(--jp-content-font-color1, white)));\n",
       "    --sklearn-color-icon: #878787;\n",
       "  }\n",
       "}\n",
       "\n",
       "#sk-container-id-2 {\n",
       "  color: var(--sklearn-color-text);\n",
       "}\n",
       "\n",
       "#sk-container-id-2 pre {\n",
       "  padding: 0;\n",
       "}\n",
       "\n",
       "#sk-container-id-2 input.sk-hidden--visually {\n",
       "  border: 0;\n",
       "  clip: rect(1px 1px 1px 1px);\n",
       "  clip: rect(1px, 1px, 1px, 1px);\n",
       "  height: 1px;\n",
       "  margin: -1px;\n",
       "  overflow: hidden;\n",
       "  padding: 0;\n",
       "  position: absolute;\n",
       "  width: 1px;\n",
       "}\n",
       "\n",
       "#sk-container-id-2 div.sk-dashed-wrapped {\n",
       "  border: 1px dashed var(--sklearn-color-line);\n",
       "  margin: 0 0.4em 0.5em 0.4em;\n",
       "  box-sizing: border-box;\n",
       "  padding-bottom: 0.4em;\n",
       "  background-color: var(--sklearn-color-background);\n",
       "}\n",
       "\n",
       "#sk-container-id-2 div.sk-container {\n",
       "  /* jupyter's `normalize.less` sets `[hidden] { display: none; }`\n",
       "     but bootstrap.min.css set `[hidden] { display: none !important; }`\n",
       "     so we also need the `!important` here to be able to override the\n",
       "     default hidden behavior on the sphinx rendered scikit-learn.org.\n",
       "     See: https://github.com/scikit-learn/scikit-learn/issues/21755 */\n",
       "  display: inline-block !important;\n",
       "  position: relative;\n",
       "}\n",
       "\n",
       "#sk-container-id-2 div.sk-text-repr-fallback {\n",
       "  display: none;\n",
       "}\n",
       "\n",
       "div.sk-parallel-item,\n",
       "div.sk-serial,\n",
       "div.sk-item {\n",
       "  /* draw centered vertical line to link estimators */\n",
       "  background-image: linear-gradient(var(--sklearn-color-text-on-default-background), var(--sklearn-color-text-on-default-background));\n",
       "  background-size: 2px 100%;\n",
       "  background-repeat: no-repeat;\n",
       "  background-position: center center;\n",
       "}\n",
       "\n",
       "/* Parallel-specific style estimator block */\n",
       "\n",
       "#sk-container-id-2 div.sk-parallel-item::after {\n",
       "  content: \"\";\n",
       "  width: 100%;\n",
       "  border-bottom: 2px solid var(--sklearn-color-text-on-default-background);\n",
       "  flex-grow: 1;\n",
       "}\n",
       "\n",
       "#sk-container-id-2 div.sk-parallel {\n",
       "  display: flex;\n",
       "  align-items: stretch;\n",
       "  justify-content: center;\n",
       "  background-color: var(--sklearn-color-background);\n",
       "  position: relative;\n",
       "}\n",
       "\n",
       "#sk-container-id-2 div.sk-parallel-item {\n",
       "  display: flex;\n",
       "  flex-direction: column;\n",
       "}\n",
       "\n",
       "#sk-container-id-2 div.sk-parallel-item:first-child::after {\n",
       "  align-self: flex-end;\n",
       "  width: 50%;\n",
       "}\n",
       "\n",
       "#sk-container-id-2 div.sk-parallel-item:last-child::after {\n",
       "  align-self: flex-start;\n",
       "  width: 50%;\n",
       "}\n",
       "\n",
       "#sk-container-id-2 div.sk-parallel-item:only-child::after {\n",
       "  width: 0;\n",
       "}\n",
       "\n",
       "/* Serial-specific style estimator block */\n",
       "\n",
       "#sk-container-id-2 div.sk-serial {\n",
       "  display: flex;\n",
       "  flex-direction: column;\n",
       "  align-items: center;\n",
       "  background-color: var(--sklearn-color-background);\n",
       "  padding-right: 1em;\n",
       "  padding-left: 1em;\n",
       "}\n",
       "\n",
       "\n",
       "/* Toggleable style: style used for estimator/Pipeline/ColumnTransformer box that is\n",
       "clickable and can be expanded/collapsed.\n",
       "- Pipeline and ColumnTransformer use this feature and define the default style\n",
       "- Estimators will overwrite some part of the style using the `sk-estimator` class\n",
       "*/\n",
       "\n",
       "/* Pipeline and ColumnTransformer style (default) */\n",
       "\n",
       "#sk-container-id-2 div.sk-toggleable {\n",
       "  /* Default theme specific background. It is overwritten whether we have a\n",
       "  specific estimator or a Pipeline/ColumnTransformer */\n",
       "  background-color: var(--sklearn-color-background);\n",
       "}\n",
       "\n",
       "/* Toggleable label */\n",
       "#sk-container-id-2 label.sk-toggleable__label {\n",
       "  cursor: pointer;\n",
       "  display: block;\n",
       "  width: 100%;\n",
       "  margin-bottom: 0;\n",
       "  padding: 0.5em;\n",
       "  box-sizing: border-box;\n",
       "  text-align: center;\n",
       "}\n",
       "\n",
       "#sk-container-id-2 label.sk-toggleable__label-arrow:before {\n",
       "  /* Arrow on the left of the label */\n",
       "  content: \"▸\";\n",
       "  float: left;\n",
       "  margin-right: 0.25em;\n",
       "  color: var(--sklearn-color-icon);\n",
       "}\n",
       "\n",
       "#sk-container-id-2 label.sk-toggleable__label-arrow:hover:before {\n",
       "  color: var(--sklearn-color-text);\n",
       "}\n",
       "\n",
       "/* Toggleable content - dropdown */\n",
       "\n",
       "#sk-container-id-2 div.sk-toggleable__content {\n",
       "  max-height: 0;\n",
       "  max-width: 0;\n",
       "  overflow: hidden;\n",
       "  text-align: left;\n",
       "  /* unfitted */\n",
       "  background-color: var(--sklearn-color-unfitted-level-0);\n",
       "}\n",
       "\n",
       "#sk-container-id-2 div.sk-toggleable__content.fitted {\n",
       "  /* fitted */\n",
       "  background-color: var(--sklearn-color-fitted-level-0);\n",
       "}\n",
       "\n",
       "#sk-container-id-2 div.sk-toggleable__content pre {\n",
       "  margin: 0.2em;\n",
       "  border-radius: 0.25em;\n",
       "  color: var(--sklearn-color-text);\n",
       "  /* unfitted */\n",
       "  background-color: var(--sklearn-color-unfitted-level-0);\n",
       "}\n",
       "\n",
       "#sk-container-id-2 div.sk-toggleable__content.fitted pre {\n",
       "  /* unfitted */\n",
       "  background-color: var(--sklearn-color-fitted-level-0);\n",
       "}\n",
       "\n",
       "#sk-container-id-2 input.sk-toggleable__control:checked~div.sk-toggleable__content {\n",
       "  /* Expand drop-down */\n",
       "  max-height: 200px;\n",
       "  max-width: 100%;\n",
       "  overflow: auto;\n",
       "}\n",
       "\n",
       "#sk-container-id-2 input.sk-toggleable__control:checked~label.sk-toggleable__label-arrow:before {\n",
       "  content: \"▾\";\n",
       "}\n",
       "\n",
       "/* Pipeline/ColumnTransformer-specific style */\n",
       "\n",
       "#sk-container-id-2 div.sk-label input.sk-toggleable__control:checked~label.sk-toggleable__label {\n",
       "  color: var(--sklearn-color-text);\n",
       "  background-color: var(--sklearn-color-unfitted-level-2);\n",
       "}\n",
       "\n",
       "#sk-container-id-2 div.sk-label.fitted input.sk-toggleable__control:checked~label.sk-toggleable__label {\n",
       "  background-color: var(--sklearn-color-fitted-level-2);\n",
       "}\n",
       "\n",
       "/* Estimator-specific style */\n",
       "\n",
       "/* Colorize estimator box */\n",
       "#sk-container-id-2 div.sk-estimator input.sk-toggleable__control:checked~label.sk-toggleable__label {\n",
       "  /* unfitted */\n",
       "  background-color: var(--sklearn-color-unfitted-level-2);\n",
       "}\n",
       "\n",
       "#sk-container-id-2 div.sk-estimator.fitted input.sk-toggleable__control:checked~label.sk-toggleable__label {\n",
       "  /* fitted */\n",
       "  background-color: var(--sklearn-color-fitted-level-2);\n",
       "}\n",
       "\n",
       "#sk-container-id-2 div.sk-label label.sk-toggleable__label,\n",
       "#sk-container-id-2 div.sk-label label {\n",
       "  /* The background is the default theme color */\n",
       "  color: var(--sklearn-color-text-on-default-background);\n",
       "}\n",
       "\n",
       "/* On hover, darken the color of the background */\n",
       "#sk-container-id-2 div.sk-label:hover label.sk-toggleable__label {\n",
       "  color: var(--sklearn-color-text);\n",
       "  background-color: var(--sklearn-color-unfitted-level-2);\n",
       "}\n",
       "\n",
       "/* Label box, darken color on hover, fitted */\n",
       "#sk-container-id-2 div.sk-label.fitted:hover label.sk-toggleable__label.fitted {\n",
       "  color: var(--sklearn-color-text);\n",
       "  background-color: var(--sklearn-color-fitted-level-2);\n",
       "}\n",
       "\n",
       "/* Estimator label */\n",
       "\n",
       "#sk-container-id-2 div.sk-label label {\n",
       "  font-family: monospace;\n",
       "  font-weight: bold;\n",
       "  display: inline-block;\n",
       "  line-height: 1.2em;\n",
       "}\n",
       "\n",
       "#sk-container-id-2 div.sk-label-container {\n",
       "  text-align: center;\n",
       "}\n",
       "\n",
       "/* Estimator-specific */\n",
       "#sk-container-id-2 div.sk-estimator {\n",
       "  font-family: monospace;\n",
       "  border: 1px dotted var(--sklearn-color-border-box);\n",
       "  border-radius: 0.25em;\n",
       "  box-sizing: border-box;\n",
       "  margin-bottom: 0.5em;\n",
       "  /* unfitted */\n",
       "  background-color: var(--sklearn-color-unfitted-level-0);\n",
       "}\n",
       "\n",
       "#sk-container-id-2 div.sk-estimator.fitted {\n",
       "  /* fitted */\n",
       "  background-color: var(--sklearn-color-fitted-level-0);\n",
       "}\n",
       "\n",
       "/* on hover */\n",
       "#sk-container-id-2 div.sk-estimator:hover {\n",
       "  /* unfitted */\n",
       "  background-color: var(--sklearn-color-unfitted-level-2);\n",
       "}\n",
       "\n",
       "#sk-container-id-2 div.sk-estimator.fitted:hover {\n",
       "  /* fitted */\n",
       "  background-color: var(--sklearn-color-fitted-level-2);\n",
       "}\n",
       "\n",
       "/* Specification for estimator info (e.g. \"i\" and \"?\") */\n",
       "\n",
       "/* Common style for \"i\" and \"?\" */\n",
       "\n",
       ".sk-estimator-doc-link,\n",
       "a:link.sk-estimator-doc-link,\n",
       "a:visited.sk-estimator-doc-link {\n",
       "  float: right;\n",
       "  font-size: smaller;\n",
       "  line-height: 1em;\n",
       "  font-family: monospace;\n",
       "  background-color: var(--sklearn-color-background);\n",
       "  border-radius: 1em;\n",
       "  height: 1em;\n",
       "  width: 1em;\n",
       "  text-decoration: none !important;\n",
       "  margin-left: 1ex;\n",
       "  /* unfitted */\n",
       "  border: var(--sklearn-color-unfitted-level-1) 1pt solid;\n",
       "  color: var(--sklearn-color-unfitted-level-1);\n",
       "}\n",
       "\n",
       ".sk-estimator-doc-link.fitted,\n",
       "a:link.sk-estimator-doc-link.fitted,\n",
       "a:visited.sk-estimator-doc-link.fitted {\n",
       "  /* fitted */\n",
       "  border: var(--sklearn-color-fitted-level-1) 1pt solid;\n",
       "  color: var(--sklearn-color-fitted-level-1);\n",
       "}\n",
       "\n",
       "/* On hover */\n",
       "div.sk-estimator:hover .sk-estimator-doc-link:hover,\n",
       ".sk-estimator-doc-link:hover,\n",
       "div.sk-label-container:hover .sk-estimator-doc-link:hover,\n",
       ".sk-estimator-doc-link:hover {\n",
       "  /* unfitted */\n",
       "  background-color: var(--sklearn-color-unfitted-level-3);\n",
       "  color: var(--sklearn-color-background);\n",
       "  text-decoration: none;\n",
       "}\n",
       "\n",
       "div.sk-estimator.fitted:hover .sk-estimator-doc-link.fitted:hover,\n",
       ".sk-estimator-doc-link.fitted:hover,\n",
       "div.sk-label-container:hover .sk-estimator-doc-link.fitted:hover,\n",
       ".sk-estimator-doc-link.fitted:hover {\n",
       "  /* fitted */\n",
       "  background-color: var(--sklearn-color-fitted-level-3);\n",
       "  color: var(--sklearn-color-background);\n",
       "  text-decoration: none;\n",
       "}\n",
       "\n",
       "/* Span, style for the box shown on hovering the info icon */\n",
       ".sk-estimator-doc-link span {\n",
       "  display: none;\n",
       "  z-index: 9999;\n",
       "  position: relative;\n",
       "  font-weight: normal;\n",
       "  right: .2ex;\n",
       "  padding: .5ex;\n",
       "  margin: .5ex;\n",
       "  width: min-content;\n",
       "  min-width: 20ex;\n",
       "  max-width: 50ex;\n",
       "  color: var(--sklearn-color-text);\n",
       "  box-shadow: 2pt 2pt 4pt #999;\n",
       "  /* unfitted */\n",
       "  background: var(--sklearn-color-unfitted-level-0);\n",
       "  border: .5pt solid var(--sklearn-color-unfitted-level-3);\n",
       "}\n",
       "\n",
       ".sk-estimator-doc-link.fitted span {\n",
       "  /* fitted */\n",
       "  background: var(--sklearn-color-fitted-level-0);\n",
       "  border: var(--sklearn-color-fitted-level-3);\n",
       "}\n",
       "\n",
       ".sk-estimator-doc-link:hover span {\n",
       "  display: block;\n",
       "}\n",
       "\n",
       "/* \"?\"-specific style due to the `<a>` HTML tag */\n",
       "\n",
       "#sk-container-id-2 a.estimator_doc_link {\n",
       "  float: right;\n",
       "  font-size: 1rem;\n",
       "  line-height: 1em;\n",
       "  font-family: monospace;\n",
       "  background-color: var(--sklearn-color-background);\n",
       "  border-radius: 1rem;\n",
       "  height: 1rem;\n",
       "  width: 1rem;\n",
       "  text-decoration: none;\n",
       "  /* unfitted */\n",
       "  color: var(--sklearn-color-unfitted-level-1);\n",
       "  border: var(--sklearn-color-unfitted-level-1) 1pt solid;\n",
       "}\n",
       "\n",
       "#sk-container-id-2 a.estimator_doc_link.fitted {\n",
       "  /* fitted */\n",
       "  border: var(--sklearn-color-fitted-level-1) 1pt solid;\n",
       "  color: var(--sklearn-color-fitted-level-1);\n",
       "}\n",
       "\n",
       "/* On hover */\n",
       "#sk-container-id-2 a.estimator_doc_link:hover {\n",
       "  /* unfitted */\n",
       "  background-color: var(--sklearn-color-unfitted-level-3);\n",
       "  color: var(--sklearn-color-background);\n",
       "  text-decoration: none;\n",
       "}\n",
       "\n",
       "#sk-container-id-2 a.estimator_doc_link.fitted:hover {\n",
       "  /* fitted */\n",
       "  background-color: var(--sklearn-color-fitted-level-3);\n",
       "}\n",
       "</style><div id=\"sk-container-id-2\" class=\"sk-top-container\"><div class=\"sk-text-repr-fallback\"><pre>SVC(gamma=0.1, kernel=&#x27;poly&#x27;, random_state=1)</pre><b>In a Jupyter environment, please rerun this cell to show the HTML representation or trust the notebook. <br />On GitHub, the HTML representation is unable to render, please try loading this page with nbviewer.org.</b></div><div class=\"sk-container\" hidden><div class=\"sk-item\"><div class=\"sk-estimator fitted sk-toggleable\"><input class=\"sk-toggleable__control sk-hidden--visually\" id=\"sk-estimator-id-2\" type=\"checkbox\" checked><label for=\"sk-estimator-id-2\" class=\"sk-toggleable__label fitted sk-toggleable__label-arrow fitted\">&nbsp;&nbsp;SVC<a class=\"sk-estimator-doc-link fitted\" rel=\"noreferrer\" target=\"_blank\" href=\"https://scikit-learn.org/1.5/modules/generated/sklearn.svm.SVC.html\">?<span>Documentation for SVC</span></a><span class=\"sk-estimator-doc-link fitted\">i<span>Fitted</span></span></label><div class=\"sk-toggleable__content fitted\"><pre>SVC(gamma=0.1, kernel=&#x27;poly&#x27;, random_state=1)</pre></div> </div></div></div></div>"
      ],
      "text/plain": [
       "SVC(gamma=0.1, kernel='poly', random_state=1)"
      ]
     },
     "execution_count": 23,
     "metadata": {},
     "output_type": "execute_result"
    }
   ],
   "source": [
    "\n",
    "from sklearn.svm import SVC\n",
    "\n",
    "svm_linear = SVC(kernel='linear', C=1.0, random_state=1)\n",
    "svm_linear.fit(X_train_std, y_train)\n",
    "\n",
    "rbf = SVC(kernel='rbf', C=1.0, gamma=0.1, random_state=1)\n",
    "rbf.fit(X_train_std, y_train)\n",
    "\n",
    "sigmoid = SVC(kernel='sigmoid', C=1.0, gamma=0.1, random_state=1)\n",
    "sigmoid.fit(X_train_std, y_train)\n",
    "\n",
    "poly = SVC(kernel='poly', C=1.0, gamma=0.1, random_state=1)\n",
    "poly.fit(X_train_std, y_train)\n",
    "\n",
    "\n",
    "\n",
    "# plot_decision_regions(X_combined_std,\n",
    "#                       y_combined,\n",
    "#                       classifier=svm,\n",
    "#                       test_idx=X_test_std)\n",
    "\n",
    "# plt.xlabel('petal length [standardized]')\n",
    "# plt.ylabel('petal width [standardized]')\n",
    "# plt.legend(loc='upper left')\n",
    "# plt.tight_layout()\n",
    "# plt.show()\n",
    "\n",
    "\n",
    "\n",
    "\n",
    "# from sklearn.linear_model import LogisticRegression\n",
    "\n",
    "# lr = LogisticRegression(C=100.0, random_state=1, solver='lbfgs')\n",
    "# lr.fit(X_train_std, y_train);\n",
    "\n",
    "\n",
    "# print(f\"Converged in {lr.n_iter_[0]} iterations.\")"
   ]
  },
  {
   "cell_type": "markdown",
   "id": "035d98ef-3dcf-4a4f-b3b0-78193df204d1",
   "metadata": {},
   "source": [
    "Although I'm not an expert, it appears that the model converging in 61 iterations is quite standard and nothing unusual. This number of iterations may indicate some moderate complexity in the data, which isn't surprising given the extensive nature of the dataset. Ultimately, the model successfully converges and exhibits high accuracy, so this outcome seems well within normal expectations."
   ]
  },
  {
   "cell_type": "code",
   "execution_count": 24,
   "id": "ca9bf47f-a85c-4ab9-828d-50b8cb95e00c",
   "metadata": {},
   "outputs": [
    {
     "data": {
      "text/html": [
       "<h2>How did the training go:</h2>"
      ],
      "text/plain": [
       "<IPython.core.display.HTML object>"
      ]
     },
     "metadata": {},
     "output_type": "display_data"
    },
    {
     "name": "stdout",
     "output_type": "stream",
     "text": [
      "Confusion Matrix:\n",
      "[[62662    15]\n",
      " [    8 16358]]\n",
      "\n",
      "Classification Report:\n",
      "              precision    recall  f1-score   support\n",
      "\n",
      "           0       1.00      1.00      1.00     62677\n",
      "           1       1.00      1.00      1.00     16366\n",
      "\n",
      "    accuracy                           1.00     79043\n",
      "   macro avg       1.00      1.00      1.00     79043\n",
      "weighted avg       1.00      1.00      1.00     79043\n",
      "\n",
      "\n"
     ]
    },
    {
     "data": {
      "text/html": [
       "<h2>How did the testing go:</h2>"
      ],
      "text/plain": [
       "<IPython.core.display.HTML object>"
      ]
     },
     "metadata": {},
     "output_type": "display_data"
    },
    {
     "name": "stdout",
     "output_type": "stream",
     "text": [
      "Confusion Matrix:\n",
      "[[15667     2]\n",
      " [    5  4087]]\n",
      "\n",
      "Classification Report:\n",
      "              precision    recall  f1-score   support\n",
      "\n",
      "           0       1.00      1.00      1.00     15669\n",
      "           1       1.00      1.00      1.00      4092\n",
      "\n",
      "    accuracy                           1.00     19761\n",
      "   macro avg       1.00      1.00      1.00     19761\n",
      "weighted avg       1.00      1.00      1.00     19761\n",
      "\n"
     ]
    },
    {
     "data": {
      "text/html": [
       "<h2>How did the training go:</h2>"
      ],
      "text/plain": [
       "<IPython.core.display.HTML object>"
      ]
     },
     "metadata": {},
     "output_type": "display_data"
    },
    {
     "name": "stdout",
     "output_type": "stream",
     "text": [
      "Confusion Matrix:\n",
      "[[62672     5]\n",
      " [    6 16360]]\n",
      "\n",
      "Classification Report:\n",
      "              precision    recall  f1-score   support\n",
      "\n",
      "           0       1.00      1.00      1.00     62677\n",
      "           1       1.00      1.00      1.00     16366\n",
      "\n",
      "    accuracy                           1.00     79043\n",
      "   macro avg       1.00      1.00      1.00     79043\n",
      "weighted avg       1.00      1.00      1.00     79043\n",
      "\n",
      "\n"
     ]
    },
    {
     "data": {
      "text/html": [
       "<h2>How did the testing go:</h2>"
      ],
      "text/plain": [
       "<IPython.core.display.HTML object>"
      ]
     },
     "metadata": {},
     "output_type": "display_data"
    },
    {
     "name": "stdout",
     "output_type": "stream",
     "text": [
      "Confusion Matrix:\n",
      "[[15666     3]\n",
      " [    1  4091]]\n",
      "\n",
      "Classification Report:\n",
      "              precision    recall  f1-score   support\n",
      "\n",
      "           0       1.00      1.00      1.00     15669\n",
      "           1       1.00      1.00      1.00      4092\n",
      "\n",
      "    accuracy                           1.00     19761\n",
      "   macro avg       1.00      1.00      1.00     19761\n",
      "weighted avg       1.00      1.00      1.00     19761\n",
      "\n"
     ]
    },
    {
     "data": {
      "text/html": [
       "<h2>How did the training go:</h2>"
      ],
      "text/plain": [
       "<IPython.core.display.HTML object>"
      ]
     },
     "metadata": {},
     "output_type": "display_data"
    },
    {
     "name": "stdout",
     "output_type": "stream",
     "text": [
      "Confusion Matrix:\n",
      "[[61380  1297]\n",
      " [ 1265 15101]]\n",
      "\n",
      "Classification Report:\n",
      "              precision    recall  f1-score   support\n",
      "\n",
      "           0       0.98      0.98      0.98     62677\n",
      "           1       0.92      0.92      0.92     16366\n",
      "\n",
      "    accuracy                           0.97     79043\n",
      "   macro avg       0.95      0.95      0.95     79043\n",
      "weighted avg       0.97      0.97      0.97     79043\n",
      "\n",
      "\n"
     ]
    },
    {
     "data": {
      "text/html": [
       "<h2>How did the testing go:</h2>"
      ],
      "text/plain": [
       "<IPython.core.display.HTML object>"
      ]
     },
     "metadata": {},
     "output_type": "display_data"
    },
    {
     "name": "stdout",
     "output_type": "stream",
     "text": [
      "Confusion Matrix:\n",
      "[[15405   264]\n",
      " [  341  3751]]\n",
      "\n",
      "Classification Report:\n",
      "              precision    recall  f1-score   support\n",
      "\n",
      "           0       0.98      0.98      0.98     15669\n",
      "           1       0.93      0.92      0.93      4092\n",
      "\n",
      "    accuracy                           0.97     19761\n",
      "   macro avg       0.96      0.95      0.95     19761\n",
      "weighted avg       0.97      0.97      0.97     19761\n",
      "\n"
     ]
    },
    {
     "data": {
      "text/html": [
       "<h2>How did the training go:</h2>"
      ],
      "text/plain": [
       "<IPython.core.display.HTML object>"
      ]
     },
     "metadata": {},
     "output_type": "display_data"
    },
    {
     "name": "stdout",
     "output_type": "stream",
     "text": [
      "Confusion Matrix:\n",
      "[[62674     3]\n",
      " [    7 16359]]\n",
      "\n",
      "Classification Report:\n",
      "              precision    recall  f1-score   support\n",
      "\n",
      "           0       1.00      1.00      1.00     62677\n",
      "           1       1.00      1.00      1.00     16366\n",
      "\n",
      "    accuracy                           1.00     79043\n",
      "   macro avg       1.00      1.00      1.00     79043\n",
      "weighted avg       1.00      1.00      1.00     79043\n",
      "\n",
      "\n"
     ]
    },
    {
     "data": {
      "text/html": [
       "<h2>How did the testing go:</h2>"
      ],
      "text/plain": [
       "<IPython.core.display.HTML object>"
      ]
     },
     "metadata": {},
     "output_type": "display_data"
    },
    {
     "name": "stdout",
     "output_type": "stream",
     "text": [
      "Confusion Matrix:\n",
      "[[15666     3]\n",
      " [    2  4090]]\n",
      "\n",
      "Classification Report:\n",
      "              precision    recall  f1-score   support\n",
      "\n",
      "           0       1.00      1.00      1.00     15669\n",
      "           1       1.00      1.00      1.00      4092\n",
      "\n",
      "    accuracy                           1.00     19761\n",
      "   macro avg       1.00      1.00      1.00     19761\n",
      "weighted avg       1.00      1.00      1.00     19761\n",
      "\n"
     ]
    }
   ],
   "source": [
    "from sklearn.metrics import accuracy_score, confusion_matrix, classification_report\n",
    "from IPython.display import display, HTML\n",
    "\n",
    "\n",
    "def print_results(y_train_pred, y_test_pred):\n",
    "    cm = confusion_matrix(y_train, y_train_pred)\n",
    "    display(HTML(f\"<h2>How did the training go:</h2>\"))\n",
    "    print('Confusion Matrix:')\n",
    "    print(cm)\n",
    "    \n",
    "    print()\n",
    "    \n",
    "    report = classification_report(y_train, y_train_pred)\n",
    "    print('Classification Report:')\n",
    "    print(report)\n",
    "    \n",
    "    \n",
    "    cm = confusion_matrix(y_test, y_test_pred)\n",
    "    print()\n",
    "    display(HTML(f\"<h2>How did the testing go:</h2>\"))\n",
    "    print('Confusion Matrix:')\n",
    "    print(cm)\n",
    "    \n",
    "    print()\n",
    "    \n",
    "    report = classification_report(y_test, y_test_pred)\n",
    "    print('Classification Report:')\n",
    "    print(report)\n",
    "\n",
    "y_train_pred = svm_linear.predict(X_train_std)\n",
    "y_test_pred = svm_linear.predict(X_test_std)\n",
    "\n",
    "print_results(y_train_pred, y_test_pred)\n",
    "\n",
    "y_train_pred = rbf.predict(X_train_std)\n",
    "y_test_pred = rbf.predict(X_test_std)\n",
    "\n",
    "print_results(y_train_pred, y_test_pred)\n",
    "\n",
    "y_train_pred = sigmoid.predict(X_train_std)\n",
    "y_test_pred = sigmoid.predict(X_test_std)\n",
    "\n",
    "print_results(y_train_pred, y_test_pred)\n",
    "\n",
    "y_train_pred = poly.predict(X_train_std)\n",
    "y_test_pred = poly.predict(X_test_std)\n",
    "\n",
    "print_results(y_train_pred, y_test_pred)\n"
   ]
  },
  {
   "cell_type": "markdown",
   "id": "eae045cd-2f5f-44b0-b6be-28e541d73e33",
   "metadata": {},
   "source": [
    "The similar results between the training and testing classification reports indicate that the model is not overfitting. If overfitting were occurring, we would likely see a drop in test performance compared to training, particularly in accuracy. However, that's not the case here. Likewise, there are no significant drops in other performance metrics, such as precision, recall, and F1-score. Since the model performs well on unseen data (i.e., the test set), this suggests that it has learned the correct patterns and is able to generalize effectively. Overall, this indicates that logistic regression is a suitable model for this task and is well-calibrated for the problem at hand."
   ]
  },
  {
   "cell_type": "markdown",
   "id": "990cb651-ee83-44f3-b878-c4597637f0ac",
   "metadata": {},
   "source": [
    "However, I believe it is important to point out that the dataset we are working with is highly imbalanced. There are only 4,107 probe-style attacks out of 494,021 total instances, representing just 0.008313% of the data. This extreme imbalance underscores the importance of focusing on the recall metric. While accuracy is 100% and precision reaches 99%, recall drops to the high 80s, indicating that the model fails to correctly identify more than 10% of probe attacks. Although this isn't a catastrophic drop, it does highlight that the model still struggles to classify all probe attacks."
   ]
  },
  {
   "cell_type": "code",
   "execution_count": 13,
   "id": "856ec9bb-69de-4271-8fd1-032bec99ba9e",
   "metadata": {},
   "outputs": [
    {
     "name": "stdout",
     "output_type": "stream",
     "text": [
      "Top 3 most influential features:\n",
      "           Feature  Coefficient  Abs_Coefficient\n",
      "1    protocol_type     2.475742         2.475742\n",
      "21  is_guest_login     2.123922         2.123922\n",
      "22           count    -2.074325         2.074325\n"
     ]
    }
   ],
   "source": [
    "coefficients = svm_linear.coef_[0]\n",
    "\n",
    "feature_names = [\n",
    "    'duration', 'protocol_type', 'service', 'flag', 'src_bytes', 'dst_bytes',\n",
    "    'land', 'wrong_fragment', 'urgent', 'hot', 'num_failed_logins',\n",
    "    'logged_in', 'num_compromised', 'root_shell', 'su_attempted', 'num_root',\n",
    "    'num_file_creations', 'num_shells', 'num_access_files', 'num_outbound_cmds',\n",
    "    'is_host_login', 'is_guest_login', 'count', 'srv_count', 'serror_rate',\n",
    "    'srv_serror_rate', 'rerror_rate', 'srv_rerror_rate', 'same_srv_rate',\n",
    "    'diff_srv_rate', 'srv_diff_host_rate', 'dst_host_count', 'dst_host_srv_count',\n",
    "    'dst_host_same_srv_rate', 'dst_host_diff_srv_rate', 'dst_host_same_src_port_rate',\n",
    "    'dst_host_srv_diff_host_rate', 'dst_host_serror_rate', 'dst_host_srv_serror_rate',\n",
    "    'dst_host_rerror_rate', 'dst_host_srv_rerror_rate'\n",
    "]\n",
    "\n",
    "coef_df = pd.DataFrame({'Feature': feature_names,'Coefficient': coefficients})\n",
    "\n",
    "coef_df['Abs_Coefficient'] = coef_df['Coefficient'].abs()\n",
    "coef_df_sorted = coef_df.sort_values(by='Abs_Coefficient', ascending=False)\n",
    "\n",
    "top_features = coef_df_sorted.head(3)\n",
    "print(\"Top 3 most influential features:\")\n",
    "print(top_features)\n"
   ]
  },
  {
   "cell_type": "markdown",
   "id": "fcd25363-9aaf-4f03-845c-1880fda9c01c",
   "metadata": {},
   "source": [
    "From my perspective, these three features make perfect sense as being among the most informative for the model:\n",
    "\n",
    "--FLAG: Certain types of connections are specifically tied to probing attacks, so it’s clear why this feature is highly relevant for classification. Connections with specific flags likely signal the presence of such attacks.\n",
    "\n",
    "--SRV_COUNT: Probing attacks tend to avoid repeated connections to the same service, so it’s logical that this feature has a large positive coefficient. A higher connection count suggests the instance is more likely to belong to class 1 (non-probe), as legitimate activity usually involves more consistent interactions with services.\n",
    "\n",
    "--WRONG_FRAGMENT: This also makes sense because non-probing attacks often involve sending fragmented packets with anomalies. So, seeing fragmented packets is a strong indicator of attack behavior in the non-probe class."
   ]
  },
  {
   "cell_type": "code",
   "execution_count": 31,
   "id": "84630150-f006-4910-8721-77c36ba1d68e",
   "metadata": {},
   "outputs": [
    {
     "name": "stdout",
     "output_type": "stream",
     "text": [
      "L1 Regularization Classification Report:\n",
      "              precision    recall  f1-score   support\n",
      "\n",
      "           0       0.99      0.88      0.93       821\n",
      "           1       1.00      1.00      1.00     97984\n",
      "\n",
      "    accuracy                           1.00     98805\n",
      "   macro avg       0.99      0.94      0.97     98805\n",
      "weighted avg       1.00      1.00      1.00     98805\n",
      "\n",
      "L2 Regularization Classification Report:\n",
      "              precision    recall  f1-score   support\n",
      "\n",
      "           0       0.99      0.89      0.94       821\n",
      "           1       1.00      1.00      1.00     97984\n",
      "\n",
      "    accuracy                           1.00     98805\n",
      "   macro avg       0.99      0.95      0.97     98805\n",
      "weighted avg       1.00      1.00      1.00     98805\n",
      "\n"
     ]
    }
   ],
   "source": [
    "\n",
    "\n",
    "lr_l1 = LogisticRegression(\n",
    "    penalty='l1',\n",
    "    C=1.0,\n",
    "    solver='liblinear',\n",
    "    random_state=1\n",
    ")\n",
    "\n",
    "lr_l2 = LogisticRegression(\n",
    "    penalty='l2',\n",
    "    C=1.0,\n",
    "    solver='lbfgs',\n",
    "    random_state=1\n",
    ")\n",
    "\n",
    "lr_l1.fit(X_train_std, y_train)\n",
    "lr_l2.fit(X_train_std, y_train)\n",
    "\n",
    "y_pred_l1 = lr_l1.predict(X_test_std)\n",
    "print(\"L1 Regularization Classification Report:\")\n",
    "print(classification_report(y_test, y_pred_l1))\n",
    "\n",
    "y_pred_l2 = lr_l2.predict(X_test_std)\n",
    "print(\"L2 Regularization Classification Report:\")\n",
    "print(classification_report(y_test, y_pred_l2))\n",
    "\n"
   ]
  },
  {
   "cell_type": "markdown",
   "id": "f22109c2-85a0-464c-886d-a6b7f1d1ddd7",
   "metadata": {},
   "source": [
    "The classification reports for both L1 and L2 regularization look almost identical, especially for class 1, which makes up nearly all the data. Since the dataset is so imbalanced, both models perform really well for class 1, and the slight difference in performance for class 0 (like recall being 0.88 for L1 and 0.89 for L2) is pretty negligible. So overall, the type of regularization (L1 vs. L2) doesn’t make much of a difference here because the imbalance overshadows any small variation in performance."
   ]
  },
  {
   "cell_type": "code",
   "execution_count": 32,
   "id": "5e6cbf10-6f15-455a-8194-15fb505523ec",
   "metadata": {},
   "outputs": [
    {
     "name": "stdout",
     "output_type": "stream",
     "text": [
      "Top 3 most influential features USING L1:\n",
      "            Feature  Coefficient  Abs_Coefficient\n",
      "23        srv_count     4.869341         4.869341\n",
      "3              flag    -4.423454         4.423454\n",
      "27  srv_rerror_rate    -2.071701         2.071701 \n",
      "\n",
      "Top 3 most influential features USING L2:\n",
      "      Feature  Coefficient  Abs_Coefficient\n",
      "3        flag    -3.570873         3.570873\n",
      "23  srv_count     3.147226         3.147226\n",
      "11  logged_in     2.407485         2.407485 \n",
      "\n"
     ]
    }
   ],
   "source": [
    "coefficients_l1 = lr_l1.coef_[0]\n",
    "coef_df1 = pd.DataFrame({'Feature': feature_names,'Coefficient': coefficients_l1})\n",
    "\n",
    "coef_df1['Abs_Coefficient'] = coef_df1['Coefficient'].abs()\n",
    "coef_df1_sorted = coef_df1.sort_values(by='Abs_Coefficient', ascending=False)\n",
    "\n",
    "top_features = coef_df1_sorted.head(3)\n",
    "print(\"Top 3 most influential features USING L1:\")\n",
    "print(top_features, \"\\n\")\n",
    "\n",
    "coefficients_l2 = lr_l2.coef_[0]\n",
    "coef_df2 = pd.DataFrame({'Feature': feature_names,'Coefficient': coefficients_l2})\n",
    "\n",
    "coef_df2['Abs_Coefficient'] = coef_df2['Coefficient'].abs()\n",
    "coef_df2_sorted = coef_df2.sort_values(by='Abs_Coefficient', ascending=False)\n",
    "\n",
    "top_features = coef_df2_sorted.head(3)\n",
    "print(\"Top 3 most influential features USING L2:\")\n",
    "print(top_features, \"\\n\")"
   ]
  },
  {
   "cell_type": "code",
   "execution_count": 33,
   "id": "2ec93e0d-1a32-4bf6-952e-df5aad2c62e6",
   "metadata": {},
   "outputs": [
    {
     "data": {
      "image/png": "[encoded data removed]",
      "text/plain": [
       "<Figure size 600x600 with 1 Axes>"
      ]
     },
     "metadata": {},
     "output_type": "display_data"
    },
    {
     "name": "stdout",
     "output_type": "stream",
     "text": [
      "**This is sorted on L1 and only shows the top 25% most important features according to the model\n",
      "\n"
     ]
    }
   ],
   "source": [
    "import numpy as np\n",
    "import matplotlib.pyplot as plt\n",
    "\n",
    "\n",
    "sorted_indices = np.argsort(np.abs(coefficients_l1))[::-1]\n",
    "\n",
    "n = len(feature_names) // 4  # Show only the 25% of features\n",
    "\n",
    "sorted_feature_names = [feature_names[i] for i in sorted_indices[:n]]\n",
    "sorted_coefficients_l1 = coef_df1['Abs_Coefficient'][sorted_indices[:n]]\n",
    "sorted_coefficients_l2 = coef_df2['Abs_Coefficient'][sorted_indices[:n]]\n",
    "\n",
    "indices = np.arange(n)\n",
    "width = 0.35\n",
    "\n",
    "plt.figure(figsize=(6, 6))\n",
    "plt.bar(indices - width/2, sorted_coefficients_l1, width=width, label='L1 Coefficients', color='green')\n",
    "plt.bar(indices + width/2, sorted_coefficients_l2, width=width, label='L2 Coefficients', color='red')\n",
    "\n",
    "plt.xticks(indices, sorted_feature_names, rotation='vertical')\n",
    "plt.ylabel('Abs Coefficient')\n",
    "plt.title('Coefficients difference between L1 and L2  (Sorted on L1)')\n",
    "plt.legend()\n",
    "plt.tight_layout()\n",
    "plt.show()\n",
    "\n",
    "print(\"**This is sorted on L1 and only shows the top 25% most important features according to the model\\n\")\n"
   ]
  },
  {
   "cell_type": "code",
   "execution_count": 34,
   "id": "9957e07e-d7f6-4fb6-97c9-dfd696dcc7c2",
   "metadata": {},
   "outputs": [
    {
     "name": "stdout",
     "output_type": "stream",
     "text": [
      "\n",
      "C level=0.001\n",
      "Accuracy on the training data: 0.9978 -- Accuracy on the testing data: 0.9975\n",
      "\n",
      "C level=0.01\n",
      "Accuracy on the training data: 0.9988 -- Accuracy on the testing data: 0.9987\n",
      "\n",
      "C level=0.1\n",
      "Accuracy on the training data: 0.9991 -- Accuracy on the testing data: 0.9990\n",
      "\n",
      "C level=1\n",
      "Accuracy on the training data: 0.9991 -- Accuracy on the testing data: 0.9990\n",
      "\n",
      "C level=10\n",
      "Accuracy on the training data: 0.9991 -- Accuracy on the testing data: 0.9990\n",
      "\n",
      "C level=100\n",
      "Accuracy on the training data: 0.9990 -- Accuracy on the testing data: 0.9989\n"
     ]
    }
   ],
   "source": [
    "C_levels = [0.001, 0.01, 0.1, 1, 10, 100]\n",
    "\n",
    "train_accuracy_lvls = []\n",
    "test_accuracy_lvls = []\n",
    "\n",
    "for C in C_levels:\n",
    "    ml_algo = LogisticRegression(C=C, penalty='l2', solver='lbfgs')\n",
    "    \n",
    "    ml_algo.fit(X_train_std, y_train)\n",
    "    \n",
    "    train_accuracy = accuracy_score(y_train, ml_algo.predict(X_train_std))\n",
    "    train_accuracy_lvls.append(train_accuracy)\n",
    "    \n",
    "    test_accuracy = accuracy_score(y_test, ml_algo.predict(X_test_std))\n",
    "    test_accuracy_lvls.append(test_accuracy)\n",
    "    \n",
    "    print(f\"\\nC level={C}\")\n",
    "    print(f\"Accuracy on the training data: {train_accuracy:.4f} -- Accuracy on the testing data: {test_accuracy:.4f}\")"
   ]
  },
  {
   "cell_type": "markdown",
   "id": "1e66c9f8-db9a-4526-aba5-8cd6bc8c1e61",
   "metadata": {},
   "source": [
    "Again, due to the significant imbalance in the dataset, the accuracy remains fairly stable across different values of C. If we take a closer look, we can see a slight improvement in accuracy as C increases from 0.001 to 0.1. After that, the accuracy levels off and even drops a tiny bit when C reaches 100, though the difference is minimal. Based on this, it seems that the optimal regularization strength is likely around C = 0.1."
   ]
  },
  {
   "cell_type": "code",
   "execution_count": 35,
   "id": "56da4795-a5e9-4e78-a467-ee1b7538f0e8",
   "metadata": {},
   "outputs": [
    {
     "data": {
      "text/html": [
       "<h1>WITH UNDERSAMPLING:</h1>"
      ],
      "text/plain": [
       "<IPython.core.display.HTML object>"
      ]
     },
     "metadata": {},
     "output_type": "display_data"
    }
   ],
   "source": [
    "display(HTML(f\"<h1>WITH UNDERSAMPLING:</h1>\"))"
   ]
  },
  {
   "cell_type": "markdown",
   "id": "4af13397-3f1a-41e6-aaf9-03c593cb692c",
   "metadata": {},
   "source": [
    "Now I will try to balance the classes and revisit the results"
   ]
  },
  {
   "cell_type": "code",
   "execution_count": 36,
   "id": "ce3a86ee-4b0a-4eef-8e78-6bdbadbe5248",
   "metadata": {},
   "outputs": [
    {
     "name": "stdout",
     "output_type": "stream",
     "text": [
      "Labels counts in y: [  4107 489914]\n",
      "Labels counts in y_train: [3286 3286] IT IS NOW BALANCED!\n",
      "Labels counts in y_test: [  821 97984]\n",
      "Converged in 107 iterations.\n"
     ]
    }
   ],
   "source": [
    "from imblearn.under_sampling import RandomUnderSampler\n",
    "\n",
    "under = RandomUnderSampler(random_state=1)\n",
    "X_train_under, y_train_under = under.fit_resample(X_train_std, y_train)\n",
    "\n",
    "lr = LogisticRegression(C=100.0, random_state=1, solver='lbfgs', max_iter=200)\n",
    "lr.fit(X_train_under, y_train_under)\n",
    "\n",
    "print('Labels counts in y:', np.bincount(y))\n",
    "print('Labels counts in y_train:', np.bincount(y_train_under), \"IT IS NOW BALANCED!\")\n",
    "print('Labels counts in y_test:', np.bincount(y_test))\n",
    "\n",
    "print(f\"Converged in {lr.n_iter_[0]} iterations.\")"
   ]
  },
  {
   "cell_type": "markdown",
   "id": "d7b28c12-9fbe-49d4-aed7-2506b924a640",
   "metadata": {},
   "source": [
    "Interestingly, after under-sampling to balance the dataset, the model now takes 107 iterations to converge, almost twice as many as before. This increase highlights how the initial convergence was quicker when 99% of the data belonged to one class. With the classes now balanced, the model faces a more complex optimization task, requiring more effort to find the optimal parameters that accurately classify both classes."
   ]
  },
  {
   "cell_type": "code",
   "execution_count": 37,
   "id": "b2a47891-794f-4c89-bbe2-9347e595ea0a",
   "metadata": {},
   "outputs": [
    {
     "data": {
      "text/html": [
       "<h2>How did the training go:</h2>"
      ],
      "text/plain": [
       "<IPython.core.display.HTML object>"
      ]
     },
     "metadata": {},
     "output_type": "display_data"
    },
    {
     "name": "stdout",
     "output_type": "stream",
     "text": [
      "Confusion Matrix:\n",
      "[[3251   35]\n",
      " [  56 3230]] \n",
      "\n",
      "Classification Report:\n",
      "              precision    recall  f1-score   support\n",
      "\n",
      "           0       0.98      0.99      0.99      3286\n",
      "           1       0.99      0.98      0.99      3286\n",
      "\n",
      "    accuracy                           0.99      6572\n",
      "   macro avg       0.99      0.99      0.99      6572\n",
      "weighted avg       0.99      0.99      0.99      6572\n",
      "\n",
      "\n"
     ]
    },
    {
     "data": {
      "text/html": [
       "<h2>How did the testing go:</h2>"
      ],
      "text/plain": [
       "<IPython.core.display.HTML object>"
      ]
     },
     "metadata": {},
     "output_type": "display_data"
    },
    {
     "name": "stdout",
     "output_type": "stream",
     "text": [
      "Confusion Matrix:\n",
      "[[  810    11]\n",
      " [ 1913 96071]]\n",
      "\n",
      "Classification Report:\n",
      "              precision    recall  f1-score   support\n",
      "\n",
      "           0       0.30      0.99      0.46       821\n",
      "           1       1.00      0.98      0.99     97984\n",
      "\n",
      "    accuracy                           0.98     98805\n",
      "   macro avg       0.65      0.98      0.72     98805\n",
      "weighted avg       0.99      0.98      0.99     98805\n",
      "\n"
     ]
    }
   ],
   "source": [
    "y_train_pred = lr.predict(X_train_under)\n",
    "\n",
    "cm = confusion_matrix(y_train_under, y_train_pred)\n",
    "display(HTML(f\"<h2>How did the training go:</h2>\"))\n",
    "print('Confusion Matrix:')\n",
    "print(cm,\"\\n\")\n",
    "\n",
    "\n",
    "report = classification_report(y_train_under, y_train_pred)\n",
    "print('Classification Report:')\n",
    "print(report)\n",
    "\n",
    "y_test_pred = lr.predict(X_test_std)\n",
    "\n",
    "cm = confusion_matrix(y_test, y_test_pred)\n",
    "print()\n",
    "display(HTML(f\"<h2>How did the testing go:</h2>\"))\n",
    "print('Confusion Matrix:')\n",
    "print(cm)\n",
    "\n",
    "print()\n",
    "\n",
    "report = classification_report(y_test, y_test_pred)\n",
    "print('Classification Report:')\n",
    "print(report)\n"
   ]
  },
  {
   "cell_type": "markdown",
   "id": "d03807b2-c8d0-49a6-a6a7-31b4ad7d9af2",
   "metadata": {},
   "source": [
    "After applying under-sampling, we notice that the model achieves stellar results on the training set, with accuracy improving over the previous imbalanced scenario. This suggests that the model fits the training data very well. However, the test results reveal that the precision and f1-score for probe attacks are drastically low. This likely indicates overfitting, where the model has become too specialized to the balanced training data and is not generalizing well to the unseen, imbalanced test data. Consequently, it fails to capture important patterns necessary for accurately identifying probe attacks in the broader dataset."
   ]
  },
  {
   "cell_type": "code",
   "execution_count": 38,
   "id": "9c985312-b66d-4e06-953c-e41a1b9556b8",
   "metadata": {},
   "outputs": [
    {
     "name": "stdout",
     "output_type": "stream",
     "text": [
      "Top 3 most influential features:\n",
      "                        Feature  Coefficient  Abs_Coefficient\n",
      "35  dst_host_same_src_port_rate    -2.525702         2.525702\n",
      "23                    srv_count     2.276596         2.276596\n",
      "3                          flag    -2.077354         2.077354\n"
     ]
    }
   ],
   "source": [
    "coefficients = lr.coef_[0]\n",
    "coef_df = pd.DataFrame({'Feature': feature_names,'Coefficient': coefficients})\n",
    "\n",
    "coef_df['Abs_Coefficient'] = coef_df['Coefficient'].abs()\n",
    "coef_df_sorted = coef_df.sort_values(by='Abs_Coefficient', ascending=False)\n",
    "\n",
    "top_features = coef_df_sorted.head(3)\n",
    "print(\"Top 3 most influential features:\")\n",
    "print(top_features)"
   ]
  },
  {
   "cell_type": "markdown",
   "id": "f02c731a-10d2-4d82-9ed7-920de7a671b1",
   "metadata": {},
   "source": [
    "Once again, we see flag and srv_count among the top features. However, the new standout is dst_host_same_src_port_rate, which makes sense given the rebalancing of the classes and the new focus on probe attacks. This feature is important because a high rate of connections from the same source port to the same destination host often signals probing activity."
   ]
  },
  {
   "cell_type": "code",
   "execution_count": 39,
   "id": "b36a68f8-ab32-4f14-b365-24147ab99852",
   "metadata": {},
   "outputs": [
    {
     "name": "stdout",
     "output_type": "stream",
     "text": [
      "L1 Regularization Classification Report:\n",
      "              precision    recall  f1-score   support\n",
      "\n",
      "           0       0.29      0.99      0.45       821\n",
      "           1       1.00      0.98      0.99     97984\n",
      "\n",
      "    accuracy                           0.98     98805\n",
      "   macro avg       0.65      0.98      0.72     98805\n",
      "weighted avg       0.99      0.98      0.99     98805\n",
      "\n",
      "L2 Regularization Classification Report:\n",
      "              precision    recall  f1-score   support\n",
      "\n",
      "           0       0.29      0.99      0.45       821\n",
      "           1       1.00      0.98      0.99     97984\n",
      "\n",
      "    accuracy                           0.98     98805\n",
      "   macro avg       0.65      0.98      0.72     98805\n",
      "weighted avg       0.99      0.98      0.99     98805\n",
      "\n"
     ]
    }
   ],
   "source": [
    "lr_l1 = LogisticRegression(\n",
    "    penalty='l1',\n",
    "    C=1.0,\n",
    "    solver='liblinear',\n",
    "    random_state=1\n",
    ")\n",
    "\n",
    "lr_l2 = LogisticRegression(\n",
    "    penalty='l2',\n",
    "    C=1.0,\n",
    "    solver='lbfgs',\n",
    "    random_state=1\n",
    ")\n",
    "\n",
    "lr_l1.fit(X_train_under, y_train_under)\n",
    "lr_l2.fit(X_train_under, y_train_under)\n",
    "\n",
    "y_pred_l1 = lr_l1.predict(X_test_std)\n",
    "print(\"L1 Regularization Classification Report:\")\n",
    "print(classification_report(y_test, y_pred_l1))\n",
    "\n",
    "y_pred_l2 = lr_l2.predict(X_test_std)\n",
    "print(\"L2 Regularization Classification Report:\")\n",
    "print(classification_report(y_test, y_pred_l2))"
   ]
  },
  {
   "cell_type": "markdown",
   "id": "03b30981-dc0e-41cc-a583-3fe99b1012d9",
   "metadata": {},
   "source": [
    "It seems that the performace is even worse now as the precision has fallen with regularization. However this is not necessarily unexpected as Regularization works by shrinking model coefficients toward zero, which can disproportionately impact features important for predicting the smaller probe class. Also by penalizing large coefficients, the model may become too simple to capture the necessary patterns for the minority class, leading to lower precision and F1-scores for class 0."
   ]
  },
  {
   "cell_type": "code",
   "execution_count": 40,
   "id": "41dea556-ebcf-457c-a676-a6923fef0177",
   "metadata": {},
   "outputs": [
    {
     "name": "stdout",
     "output_type": "stream",
     "text": [
      "Top 3 most influential features USING L1:\n",
      "                        Feature  Coefficient  Abs_Coefficient\n",
      "35  dst_host_same_src_port_rate    -2.274294         2.274294\n",
      "23                    srv_count     1.810362         1.810362\n",
      "3                          flag    -1.770934         1.770934 \n",
      "\n",
      "Top 3 most influential features USING L2:\n",
      "                        Feature  Coefficient  Abs_Coefficient\n",
      "35  dst_host_same_src_port_rate    -2.229301         2.229301\n",
      "3                          flag    -1.757475         1.757475\n",
      "23                    srv_count     1.667082         1.667082 \n",
      "\n"
     ]
    }
   ],
   "source": [
    "coefficients_l1 = lr_l1.coef_[0]\n",
    "coef_df1 = pd.DataFrame({'Feature': feature_names,'Coefficient': coefficients_l1})\n",
    "\n",
    "coef_df1['Abs_Coefficient'] = coef_df1['Coefficient'].abs()\n",
    "coef_df1_sorted = coef_df1.sort_values(by='Abs_Coefficient', ascending=False)\n",
    "\n",
    "top_features = coef_df1_sorted.head(3)\n",
    "print(\"Top 3 most influential features USING L1:\")\n",
    "print(top_features, \"\\n\")\n",
    "\n",
    "coefficients_l2 = lr_l2.coef_[0]\n",
    "coef_df2 = pd.DataFrame({'Feature': feature_names,'Coefficient': coefficients_l2})\n",
    "\n",
    "coef_df2['Abs_Coefficient'] = coef_df2['Coefficient'].abs()\n",
    "coef_df2_sorted = coef_df2.sort_values(by='Abs_Coefficient', ascending=False)\n",
    "\n",
    "top_features = coef_df2_sorted.head(3)\n",
    "print(\"Top 3 most influential features USING L2:\")\n",
    "print(top_features, \"\\n\")"
   ]
  },
  {
   "cell_type": "code",
   "execution_count": 41,
   "id": "27f3f6e1-edef-4fcb-acad-7c225ad4a391",
   "metadata": {},
   "outputs": [
    {
     "data": {
      "image/png": "[encoded data removed]",
      "text/plain": [
       "<Figure size 600x600 with 1 Axes>"
      ]
     },
     "metadata": {},
     "output_type": "display_data"
    }
   ],
   "source": [
    "sorted_indices = np.argsort(np.abs(coefficients_l1))[::-1]\n",
    "\n",
    "n = len(feature_names) // 4  # Show only the 25% of features\n",
    "\n",
    "sorted_feature_names = [feature_names[i] for i in sorted_indices[:n]]\n",
    "sorted_coefficients_l1 = coef_df1['Abs_Coefficient'][sorted_indices[:n]]\n",
    "sorted_coefficients_l2 = coef_df2['Abs_Coefficient'][sorted_indices[:n]]\n",
    "\n",
    "indices = np.arange(n)\n",
    "width = 0.35\n",
    "\n",
    "plt.figure(figsize=(6, 6))\n",
    "plt.bar(indices - width/2, sorted_coefficients_l1, width=width, label='L1 Coefficients', color='green')\n",
    "plt.bar(indices + width/2, sorted_coefficients_l2, width=width, label='L2 Coefficients', color='red')\n",
    "\n",
    "plt.xticks(indices, sorted_feature_names, rotation='vertical')\n",
    "plt.ylabel('Abs Coefficient')\n",
    "plt.title('Coefficients difference between L1 and L2  (Sorted on L1)')\n",
    "plt.legend()\n",
    "plt.tight_layout()\n",
    "plt.show()"
   ]
  },
  {
   "cell_type": "markdown",
   "id": "6ca07350-3307-49b3-b420-99f7bf2aa195",
   "metadata": {},
   "source": [
    "In addition to what was mentioned earlier, the main point worth noting here is that the coefficient values for both L1 and L2 are now much more aligned. With the classes balanced and regularized, both models are focusing on the same key features."
   ]
  },
  {
   "cell_type": "code",
   "execution_count": 42,
   "id": "134bb1ab-23fb-4d16-80e4-99b74a265d58",
   "metadata": {},
   "outputs": [
    {
     "name": "stdout",
     "output_type": "stream",
     "text": [
      "\n",
      "C level=0.001\n",
      "Accuracy on the training data: 0.9714 -- Accuracy on the testing data: 0.9775\n",
      "\n",
      "C level=0.01\n",
      "Accuracy on the training data: 0.9799 -- Accuracy on the testing data: 0.9791\n",
      "\n",
      "C level=0.1\n",
      "Accuracy on the training data: 0.9852 -- Accuracy on the testing data: 0.9802\n",
      "\n",
      "C level=1\n",
      "Accuracy on the training data: 0.9860 -- Accuracy on the testing data: 0.9801\n",
      "\n",
      "C level=10\n",
      "Accuracy on the training data: 0.9863 -- Accuracy on the testing data: 0.9805\n",
      "\n",
      "C level=100\n",
      "Accuracy on the training data: 0.9862 -- Accuracy on the testing data: 0.9805\n"
     ]
    }
   ],
   "source": [
    "C_levels = [0.001, 0.01, 0.1, 1, 10, 100]\n",
    "\n",
    "train_accuracy_lvls = []\n",
    "test_accuracy_lvls = []\n",
    "\n",
    "for C in C_levels:\n",
    "    ml_algo = LogisticRegression(C=C, penalty='l2', solver='lbfgs', max_iter= 200)\n",
    "    \n",
    "    ml_algo.fit(X_train_under, y_train_under)\n",
    "    \n",
    "    train_accuracy = accuracy_score(y_train_under, ml_algo.predict(X_train_under))\n",
    "    train_accuracy_lvls.append(train_accuracy)\n",
    "    \n",
    "    test_accuracy = accuracy_score(y_test, ml_algo.predict(X_test_std))\n",
    "    test_accuracy_lvls.append(test_accuracy)\n",
    "    \n",
    "    print(f\"\\nC level={C}\")\n",
    "    print(f\"Accuracy on the training data: {train_accuracy:.4f} -- Accuracy on the testing data: {test_accuracy:.4f}\")"
   ]
  },
  {
   "cell_type": "markdown",
   "id": "200cd575-a15a-4981-b6a2-3613f6b31098",
   "metadata": {},
   "source": [
    "It seems now that the plateau is higher than before undersampling. As the C value increases in the logistic regression model, we see improvements in accuracy up to C=10. Beyond this point, the accuracy levels off for both training and testing data. This plateau indicates that we've reached an optimal balance. Further increasing C doesn't enhance the model's performance."
   ]
  },
  {
   "cell_type": "code",
   "execution_count": null,
   "id": "1b633cec-39ef-4acb-8e35-e458bc55ad47",
   "metadata": {},
   "outputs": [],
   "source": []
  }
 ],
 "metadata": {
  "kernelspec": {
   "display_name": "Python 3 (ipykernel)",
   "language": "python",
   "name": "python3"
  },
  "language_info": {
   "codemirror_mode": {
    "name": "ipython",
    "version": 3
   },
   "file_extension": ".py",
   "mimetype": "text/x-python",
   "name": "python",
   "nbconvert_exporter": "python",
   "pygments_lexer": "ipython3",
   "version": "3.12.5"
  }
 },
 "nbformat": 4,
 "nbformat_minor": 5
}
